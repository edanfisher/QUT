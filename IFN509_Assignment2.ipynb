{
  "cells": [
    {
      "cell_type": "markdown",
      "id": "55682451",
      "metadata": {
        "id": "55682451"
      },
      "source": [
        "# IFN509 Assignment 2"
      ]
    },
    {
      "cell_type": "code",
      "execution_count": 5,
      "id": "e14e1fe6",
      "metadata": {
        "id": "e14e1fe6"
      },
      "outputs": [],
      "source": [
        "import pandas as pd\n",
        "import seaborn as sns\n",
        "import matplotlib.pyplot as plt\n",
        "import numpy as np\n",
        "import os"
      ]
    },
    {
      "cell_type": "code",
      "execution_count": 8,
      "id": "e4cc8d5a",
      "metadata": {
        "id": "e4cc8d5a",
        "outputId": "c2396a20-b63c-45bf-ba67-9e27f42efe76",
        "colab": {
          "base_uri": "https://localhost:8080/",
          "height": 356
        }
      },
      "outputs": [
        {
          "output_type": "error",
          "ename": "HTTPError",
          "evalue": "HTTP Error 404: Not Found",
          "traceback": [
            "\u001b[0;31m---------------------------------------------------------------------------\u001b[0m",
            "\u001b[0;31mHTTPError\u001b[0m                                 Traceback (most recent call last)",
            "\u001b[0;32m/tmp/ipython-input-2026897689.py\u001b[0m in \u001b[0;36m<cell line: 0>\u001b[0;34m()\u001b[0m\n\u001b[1;32m      6\u001b[0m     \u001b[0;31m# Option 1: Load directly from GitHub (recommended for read-only data)\u001b[0m\u001b[0;34m\u001b[0m\u001b[0;34m\u001b[0m\u001b[0m\n\u001b[1;32m      7\u001b[0m     \u001b[0murl\u001b[0m \u001b[0;34m=\u001b[0m \u001b[0;34m\"https://github.com/edanfisher/QUT/blob/main/data/Dataset.csv\"\u001b[0m\u001b[0;34m\u001b[0m\u001b[0;34m\u001b[0m\u001b[0m\n\u001b[0;32m----> 8\u001b[0;31m     \u001b[0mdf\u001b[0m \u001b[0;34m=\u001b[0m \u001b[0mpd\u001b[0m\u001b[0;34m.\u001b[0m\u001b[0mread_csv\u001b[0m\u001b[0;34m(\u001b[0m\u001b[0murl\u001b[0m\u001b[0;34m)\u001b[0m\u001b[0;34m\u001b[0m\u001b[0;34m\u001b[0m\u001b[0m\n\u001b[0m\u001b[1;32m      9\u001b[0m \u001b[0;34m\u001b[0m\u001b[0m\n\u001b[1;32m     10\u001b[0m     \u001b[0;31m# Option 2: (if data is large/private)\u001b[0m\u001b[0;34m\u001b[0m\u001b[0;34m\u001b[0m\u001b[0m\n",
            "\u001b[0;32m/usr/local/lib/python3.12/dist-packages/pandas/io/parsers/readers.py\u001b[0m in \u001b[0;36mread_csv\u001b[0;34m(filepath_or_buffer, sep, delimiter, header, names, index_col, usecols, dtype, engine, converters, true_values, false_values, skipinitialspace, skiprows, skipfooter, nrows, na_values, keep_default_na, na_filter, verbose, skip_blank_lines, parse_dates, infer_datetime_format, keep_date_col, date_parser, date_format, dayfirst, cache_dates, iterator, chunksize, compression, thousands, decimal, lineterminator, quotechar, quoting, doublequote, escapechar, comment, encoding, encoding_errors, dialect, on_bad_lines, delim_whitespace, low_memory, memory_map, float_precision, storage_options, dtype_backend)\u001b[0m\n\u001b[1;32m   1024\u001b[0m     \u001b[0mkwds\u001b[0m\u001b[0;34m.\u001b[0m\u001b[0mupdate\u001b[0m\u001b[0;34m(\u001b[0m\u001b[0mkwds_defaults\u001b[0m\u001b[0;34m)\u001b[0m\u001b[0;34m\u001b[0m\u001b[0;34m\u001b[0m\u001b[0m\n\u001b[1;32m   1025\u001b[0m \u001b[0;34m\u001b[0m\u001b[0m\n\u001b[0;32m-> 1026\u001b[0;31m     \u001b[0;32mreturn\u001b[0m \u001b[0m_read\u001b[0m\u001b[0;34m(\u001b[0m\u001b[0mfilepath_or_buffer\u001b[0m\u001b[0;34m,\u001b[0m \u001b[0mkwds\u001b[0m\u001b[0;34m)\u001b[0m\u001b[0;34m\u001b[0m\u001b[0;34m\u001b[0m\u001b[0m\n\u001b[0m\u001b[1;32m   1027\u001b[0m \u001b[0;34m\u001b[0m\u001b[0m\n\u001b[1;32m   1028\u001b[0m \u001b[0;34m\u001b[0m\u001b[0m\n",
            "\u001b[0;32m/usr/local/lib/python3.12/dist-packages/pandas/io/parsers/readers.py\u001b[0m in \u001b[0;36m_read\u001b[0;34m(filepath_or_buffer, kwds)\u001b[0m\n\u001b[1;32m    618\u001b[0m \u001b[0;34m\u001b[0m\u001b[0m\n\u001b[1;32m    619\u001b[0m     \u001b[0;31m# Create the parser.\u001b[0m\u001b[0;34m\u001b[0m\u001b[0;34m\u001b[0m\u001b[0m\n\u001b[0;32m--> 620\u001b[0;31m     \u001b[0mparser\u001b[0m \u001b[0;34m=\u001b[0m \u001b[0mTextFileReader\u001b[0m\u001b[0;34m(\u001b[0m\u001b[0mfilepath_or_buffer\u001b[0m\u001b[0;34m,\u001b[0m \u001b[0;34m**\u001b[0m\u001b[0mkwds\u001b[0m\u001b[0;34m)\u001b[0m\u001b[0;34m\u001b[0m\u001b[0;34m\u001b[0m\u001b[0m\n\u001b[0m\u001b[1;32m    621\u001b[0m \u001b[0;34m\u001b[0m\u001b[0m\n\u001b[1;32m    622\u001b[0m     \u001b[0;32mif\u001b[0m \u001b[0mchunksize\u001b[0m \u001b[0;32mor\u001b[0m \u001b[0miterator\u001b[0m\u001b[0;34m:\u001b[0m\u001b[0;34m\u001b[0m\u001b[0;34m\u001b[0m\u001b[0m\n",
            "\u001b[0;32m/usr/local/lib/python3.12/dist-packages/pandas/io/parsers/readers.py\u001b[0m in \u001b[0;36m__init__\u001b[0;34m(self, f, engine, **kwds)\u001b[0m\n\u001b[1;32m   1618\u001b[0m \u001b[0;34m\u001b[0m\u001b[0m\n\u001b[1;32m   1619\u001b[0m         \u001b[0mself\u001b[0m\u001b[0;34m.\u001b[0m\u001b[0mhandles\u001b[0m\u001b[0;34m:\u001b[0m \u001b[0mIOHandles\u001b[0m \u001b[0;34m|\u001b[0m \u001b[0;32mNone\u001b[0m \u001b[0;34m=\u001b[0m \u001b[0;32mNone\u001b[0m\u001b[0;34m\u001b[0m\u001b[0;34m\u001b[0m\u001b[0m\n\u001b[0;32m-> 1620\u001b[0;31m         \u001b[0mself\u001b[0m\u001b[0;34m.\u001b[0m\u001b[0m_engine\u001b[0m \u001b[0;34m=\u001b[0m \u001b[0mself\u001b[0m\u001b[0;34m.\u001b[0m\u001b[0m_make_engine\u001b[0m\u001b[0;34m(\u001b[0m\u001b[0mf\u001b[0m\u001b[0;34m,\u001b[0m \u001b[0mself\u001b[0m\u001b[0;34m.\u001b[0m\u001b[0mengine\u001b[0m\u001b[0;34m)\u001b[0m\u001b[0;34m\u001b[0m\u001b[0;34m\u001b[0m\u001b[0m\n\u001b[0m\u001b[1;32m   1621\u001b[0m \u001b[0;34m\u001b[0m\u001b[0m\n\u001b[1;32m   1622\u001b[0m     \u001b[0;32mdef\u001b[0m \u001b[0mclose\u001b[0m\u001b[0;34m(\u001b[0m\u001b[0mself\u001b[0m\u001b[0;34m)\u001b[0m \u001b[0;34m->\u001b[0m \u001b[0;32mNone\u001b[0m\u001b[0;34m:\u001b[0m\u001b[0;34m\u001b[0m\u001b[0;34m\u001b[0m\u001b[0m\n",
            "\u001b[0;32m/usr/local/lib/python3.12/dist-packages/pandas/io/parsers/readers.py\u001b[0m in \u001b[0;36m_make_engine\u001b[0;34m(self, f, engine)\u001b[0m\n\u001b[1;32m   1878\u001b[0m                 \u001b[0;32mif\u001b[0m \u001b[0;34m\"b\"\u001b[0m \u001b[0;32mnot\u001b[0m \u001b[0;32min\u001b[0m \u001b[0mmode\u001b[0m\u001b[0;34m:\u001b[0m\u001b[0;34m\u001b[0m\u001b[0;34m\u001b[0m\u001b[0m\n\u001b[1;32m   1879\u001b[0m                     \u001b[0mmode\u001b[0m \u001b[0;34m+=\u001b[0m \u001b[0;34m\"b\"\u001b[0m\u001b[0;34m\u001b[0m\u001b[0;34m\u001b[0m\u001b[0m\n\u001b[0;32m-> 1880\u001b[0;31m             self.handles = get_handle(\n\u001b[0m\u001b[1;32m   1881\u001b[0m                 \u001b[0mf\u001b[0m\u001b[0;34m,\u001b[0m\u001b[0;34m\u001b[0m\u001b[0;34m\u001b[0m\u001b[0m\n\u001b[1;32m   1882\u001b[0m                 \u001b[0mmode\u001b[0m\u001b[0;34m,\u001b[0m\u001b[0;34m\u001b[0m\u001b[0;34m\u001b[0m\u001b[0m\n",
            "\u001b[0;32m/usr/local/lib/python3.12/dist-packages/pandas/io/common.py\u001b[0m in \u001b[0;36mget_handle\u001b[0;34m(path_or_buf, mode, encoding, compression, memory_map, is_text, errors, storage_options)\u001b[0m\n\u001b[1;32m    726\u001b[0m \u001b[0;34m\u001b[0m\u001b[0m\n\u001b[1;32m    727\u001b[0m     \u001b[0;31m# open URLs\u001b[0m\u001b[0;34m\u001b[0m\u001b[0;34m\u001b[0m\u001b[0m\n\u001b[0;32m--> 728\u001b[0;31m     ioargs = _get_filepath_or_buffer(\n\u001b[0m\u001b[1;32m    729\u001b[0m         \u001b[0mpath_or_buf\u001b[0m\u001b[0;34m,\u001b[0m\u001b[0;34m\u001b[0m\u001b[0;34m\u001b[0m\u001b[0m\n\u001b[1;32m    730\u001b[0m         \u001b[0mencoding\u001b[0m\u001b[0;34m=\u001b[0m\u001b[0mencoding\u001b[0m\u001b[0;34m,\u001b[0m\u001b[0;34m\u001b[0m\u001b[0;34m\u001b[0m\u001b[0m\n",
            "\u001b[0;32m/usr/local/lib/python3.12/dist-packages/pandas/io/common.py\u001b[0m in \u001b[0;36m_get_filepath_or_buffer\u001b[0;34m(filepath_or_buffer, encoding, compression, mode, storage_options)\u001b[0m\n\u001b[1;32m    382\u001b[0m         \u001b[0;31m# assuming storage_options is to be interpreted as headers\u001b[0m\u001b[0;34m\u001b[0m\u001b[0;34m\u001b[0m\u001b[0m\n\u001b[1;32m    383\u001b[0m         \u001b[0mreq_info\u001b[0m \u001b[0;34m=\u001b[0m \u001b[0murllib\u001b[0m\u001b[0;34m.\u001b[0m\u001b[0mrequest\u001b[0m\u001b[0;34m.\u001b[0m\u001b[0mRequest\u001b[0m\u001b[0;34m(\u001b[0m\u001b[0mfilepath_or_buffer\u001b[0m\u001b[0;34m,\u001b[0m \u001b[0mheaders\u001b[0m\u001b[0;34m=\u001b[0m\u001b[0mstorage_options\u001b[0m\u001b[0;34m)\u001b[0m\u001b[0;34m\u001b[0m\u001b[0;34m\u001b[0m\u001b[0m\n\u001b[0;32m--> 384\u001b[0;31m         \u001b[0;32mwith\u001b[0m \u001b[0murlopen\u001b[0m\u001b[0;34m(\u001b[0m\u001b[0mreq_info\u001b[0m\u001b[0;34m)\u001b[0m \u001b[0;32mas\u001b[0m \u001b[0mreq\u001b[0m\u001b[0;34m:\u001b[0m\u001b[0;34m\u001b[0m\u001b[0;34m\u001b[0m\u001b[0m\n\u001b[0m\u001b[1;32m    385\u001b[0m             \u001b[0mcontent_encoding\u001b[0m \u001b[0;34m=\u001b[0m \u001b[0mreq\u001b[0m\u001b[0;34m.\u001b[0m\u001b[0mheaders\u001b[0m\u001b[0;34m.\u001b[0m\u001b[0mget\u001b[0m\u001b[0;34m(\u001b[0m\u001b[0;34m\"Content-Encoding\"\u001b[0m\u001b[0;34m,\u001b[0m \u001b[0;32mNone\u001b[0m\u001b[0;34m)\u001b[0m\u001b[0;34m\u001b[0m\u001b[0;34m\u001b[0m\u001b[0m\n\u001b[1;32m    386\u001b[0m             \u001b[0;32mif\u001b[0m \u001b[0mcontent_encoding\u001b[0m \u001b[0;34m==\u001b[0m \u001b[0;34m\"gzip\"\u001b[0m\u001b[0;34m:\u001b[0m\u001b[0;34m\u001b[0m\u001b[0;34m\u001b[0m\u001b[0m\n",
            "\u001b[0;32m/usr/local/lib/python3.12/dist-packages/pandas/io/common.py\u001b[0m in \u001b[0;36murlopen\u001b[0;34m(*args, **kwargs)\u001b[0m\n\u001b[1;32m    287\u001b[0m     \u001b[0;32mimport\u001b[0m \u001b[0murllib\u001b[0m\u001b[0;34m.\u001b[0m\u001b[0mrequest\u001b[0m\u001b[0;34m\u001b[0m\u001b[0;34m\u001b[0m\u001b[0m\n\u001b[1;32m    288\u001b[0m \u001b[0;34m\u001b[0m\u001b[0m\n\u001b[0;32m--> 289\u001b[0;31m     \u001b[0;32mreturn\u001b[0m \u001b[0murllib\u001b[0m\u001b[0;34m.\u001b[0m\u001b[0mrequest\u001b[0m\u001b[0;34m.\u001b[0m\u001b[0murlopen\u001b[0m\u001b[0;34m(\u001b[0m\u001b[0;34m*\u001b[0m\u001b[0margs\u001b[0m\u001b[0;34m,\u001b[0m \u001b[0;34m**\u001b[0m\u001b[0mkwargs\u001b[0m\u001b[0;34m)\u001b[0m\u001b[0;34m\u001b[0m\u001b[0;34m\u001b[0m\u001b[0m\n\u001b[0m\u001b[1;32m    290\u001b[0m \u001b[0;34m\u001b[0m\u001b[0m\n\u001b[1;32m    291\u001b[0m \u001b[0;34m\u001b[0m\u001b[0m\n",
            "\u001b[0;32m/usr/lib/python3.12/urllib/request.py\u001b[0m in \u001b[0;36murlopen\u001b[0;34m(url, data, timeout, cafile, capath, cadefault, context)\u001b[0m\n\u001b[1;32m    213\u001b[0m     \u001b[0;32melse\u001b[0m\u001b[0;34m:\u001b[0m\u001b[0;34m\u001b[0m\u001b[0;34m\u001b[0m\u001b[0m\n\u001b[1;32m    214\u001b[0m         \u001b[0mopener\u001b[0m \u001b[0;34m=\u001b[0m \u001b[0m_opener\u001b[0m\u001b[0;34m\u001b[0m\u001b[0;34m\u001b[0m\u001b[0m\n\u001b[0;32m--> 215\u001b[0;31m     \u001b[0;32mreturn\u001b[0m \u001b[0mopener\u001b[0m\u001b[0;34m.\u001b[0m\u001b[0mopen\u001b[0m\u001b[0;34m(\u001b[0m\u001b[0murl\u001b[0m\u001b[0;34m,\u001b[0m \u001b[0mdata\u001b[0m\u001b[0;34m,\u001b[0m \u001b[0mtimeout\u001b[0m\u001b[0;34m)\u001b[0m\u001b[0;34m\u001b[0m\u001b[0;34m\u001b[0m\u001b[0m\n\u001b[0m\u001b[1;32m    216\u001b[0m \u001b[0;34m\u001b[0m\u001b[0m\n\u001b[1;32m    217\u001b[0m \u001b[0;32mdef\u001b[0m \u001b[0minstall_opener\u001b[0m\u001b[0;34m(\u001b[0m\u001b[0mopener\u001b[0m\u001b[0;34m)\u001b[0m\u001b[0;34m:\u001b[0m\u001b[0;34m\u001b[0m\u001b[0;34m\u001b[0m\u001b[0m\n",
            "\u001b[0;32m/usr/lib/python3.12/urllib/request.py\u001b[0m in \u001b[0;36mopen\u001b[0;34m(self, fullurl, data, timeout)\u001b[0m\n\u001b[1;32m    519\u001b[0m         \u001b[0;32mfor\u001b[0m \u001b[0mprocessor\u001b[0m \u001b[0;32min\u001b[0m \u001b[0mself\u001b[0m\u001b[0;34m.\u001b[0m\u001b[0mprocess_response\u001b[0m\u001b[0;34m.\u001b[0m\u001b[0mget\u001b[0m\u001b[0;34m(\u001b[0m\u001b[0mprotocol\u001b[0m\u001b[0;34m,\u001b[0m \u001b[0;34m[\u001b[0m\u001b[0;34m]\u001b[0m\u001b[0;34m)\u001b[0m\u001b[0;34m:\u001b[0m\u001b[0;34m\u001b[0m\u001b[0;34m\u001b[0m\u001b[0m\n\u001b[1;32m    520\u001b[0m             \u001b[0mmeth\u001b[0m \u001b[0;34m=\u001b[0m \u001b[0mgetattr\u001b[0m\u001b[0;34m(\u001b[0m\u001b[0mprocessor\u001b[0m\u001b[0;34m,\u001b[0m \u001b[0mmeth_name\u001b[0m\u001b[0;34m)\u001b[0m\u001b[0;34m\u001b[0m\u001b[0;34m\u001b[0m\u001b[0m\n\u001b[0;32m--> 521\u001b[0;31m             \u001b[0mresponse\u001b[0m \u001b[0;34m=\u001b[0m \u001b[0mmeth\u001b[0m\u001b[0;34m(\u001b[0m\u001b[0mreq\u001b[0m\u001b[0;34m,\u001b[0m \u001b[0mresponse\u001b[0m\u001b[0;34m)\u001b[0m\u001b[0;34m\u001b[0m\u001b[0;34m\u001b[0m\u001b[0m\n\u001b[0m\u001b[1;32m    522\u001b[0m \u001b[0;34m\u001b[0m\u001b[0m\n\u001b[1;32m    523\u001b[0m         \u001b[0;32mreturn\u001b[0m \u001b[0mresponse\u001b[0m\u001b[0;34m\u001b[0m\u001b[0;34m\u001b[0m\u001b[0m\n",
            "\u001b[0;32m/usr/lib/python3.12/urllib/request.py\u001b[0m in \u001b[0;36mhttp_response\u001b[0;34m(self, request, response)\u001b[0m\n\u001b[1;32m    628\u001b[0m         \u001b[0;31m# request was successfully received, understood, and accepted.\u001b[0m\u001b[0;34m\u001b[0m\u001b[0;34m\u001b[0m\u001b[0m\n\u001b[1;32m    629\u001b[0m         \u001b[0;32mif\u001b[0m \u001b[0;32mnot\u001b[0m \u001b[0;34m(\u001b[0m\u001b[0;36m200\u001b[0m \u001b[0;34m<=\u001b[0m \u001b[0mcode\u001b[0m \u001b[0;34m<\u001b[0m \u001b[0;36m300\u001b[0m\u001b[0;34m)\u001b[0m\u001b[0;34m:\u001b[0m\u001b[0;34m\u001b[0m\u001b[0;34m\u001b[0m\u001b[0m\n\u001b[0;32m--> 630\u001b[0;31m             response = self.parent.error(\n\u001b[0m\u001b[1;32m    631\u001b[0m                 'http', request, response, code, msg, hdrs)\n\u001b[1;32m    632\u001b[0m \u001b[0;34m\u001b[0m\u001b[0m\n",
            "\u001b[0;32m/usr/lib/python3.12/urllib/request.py\u001b[0m in \u001b[0;36merror\u001b[0;34m(self, proto, *args)\u001b[0m\n\u001b[1;32m    557\u001b[0m         \u001b[0;32mif\u001b[0m \u001b[0mhttp_err\u001b[0m\u001b[0;34m:\u001b[0m\u001b[0;34m\u001b[0m\u001b[0;34m\u001b[0m\u001b[0m\n\u001b[1;32m    558\u001b[0m             \u001b[0margs\u001b[0m \u001b[0;34m=\u001b[0m \u001b[0;34m(\u001b[0m\u001b[0mdict\u001b[0m\u001b[0;34m,\u001b[0m \u001b[0;34m'default'\u001b[0m\u001b[0;34m,\u001b[0m \u001b[0;34m'http_error_default'\u001b[0m\u001b[0;34m)\u001b[0m \u001b[0;34m+\u001b[0m \u001b[0morig_args\u001b[0m\u001b[0;34m\u001b[0m\u001b[0;34m\u001b[0m\u001b[0m\n\u001b[0;32m--> 559\u001b[0;31m             \u001b[0;32mreturn\u001b[0m \u001b[0mself\u001b[0m\u001b[0;34m.\u001b[0m\u001b[0m_call_chain\u001b[0m\u001b[0;34m(\u001b[0m\u001b[0;34m*\u001b[0m\u001b[0margs\u001b[0m\u001b[0;34m)\u001b[0m\u001b[0;34m\u001b[0m\u001b[0;34m\u001b[0m\u001b[0m\n\u001b[0m\u001b[1;32m    560\u001b[0m \u001b[0;34m\u001b[0m\u001b[0m\n\u001b[1;32m    561\u001b[0m \u001b[0;31m# XXX probably also want an abstract factory that knows when it makes\u001b[0m\u001b[0;34m\u001b[0m\u001b[0;34m\u001b[0m\u001b[0m\n",
            "\u001b[0;32m/usr/lib/python3.12/urllib/request.py\u001b[0m in \u001b[0;36m_call_chain\u001b[0;34m(self, chain, kind, meth_name, *args)\u001b[0m\n\u001b[1;32m    490\u001b[0m         \u001b[0;32mfor\u001b[0m \u001b[0mhandler\u001b[0m \u001b[0;32min\u001b[0m \u001b[0mhandlers\u001b[0m\u001b[0;34m:\u001b[0m\u001b[0;34m\u001b[0m\u001b[0;34m\u001b[0m\u001b[0m\n\u001b[1;32m    491\u001b[0m             \u001b[0mfunc\u001b[0m \u001b[0;34m=\u001b[0m \u001b[0mgetattr\u001b[0m\u001b[0;34m(\u001b[0m\u001b[0mhandler\u001b[0m\u001b[0;34m,\u001b[0m \u001b[0mmeth_name\u001b[0m\u001b[0;34m)\u001b[0m\u001b[0;34m\u001b[0m\u001b[0;34m\u001b[0m\u001b[0m\n\u001b[0;32m--> 492\u001b[0;31m             \u001b[0mresult\u001b[0m \u001b[0;34m=\u001b[0m \u001b[0mfunc\u001b[0m\u001b[0;34m(\u001b[0m\u001b[0;34m*\u001b[0m\u001b[0margs\u001b[0m\u001b[0;34m)\u001b[0m\u001b[0;34m\u001b[0m\u001b[0;34m\u001b[0m\u001b[0m\n\u001b[0m\u001b[1;32m    493\u001b[0m             \u001b[0;32mif\u001b[0m \u001b[0mresult\u001b[0m \u001b[0;32mis\u001b[0m \u001b[0;32mnot\u001b[0m \u001b[0;32mNone\u001b[0m\u001b[0;34m:\u001b[0m\u001b[0;34m\u001b[0m\u001b[0;34m\u001b[0m\u001b[0m\n\u001b[1;32m    494\u001b[0m                 \u001b[0;32mreturn\u001b[0m \u001b[0mresult\u001b[0m\u001b[0;34m\u001b[0m\u001b[0;34m\u001b[0m\u001b[0m\n",
            "\u001b[0;32m/usr/lib/python3.12/urllib/request.py\u001b[0m in \u001b[0;36mhttp_error_default\u001b[0;34m(self, req, fp, code, msg, hdrs)\u001b[0m\n\u001b[1;32m    637\u001b[0m \u001b[0;32mclass\u001b[0m \u001b[0mHTTPDefaultErrorHandler\u001b[0m\u001b[0;34m(\u001b[0m\u001b[0mBaseHandler\u001b[0m\u001b[0;34m)\u001b[0m\u001b[0;34m:\u001b[0m\u001b[0;34m\u001b[0m\u001b[0;34m\u001b[0m\u001b[0m\n\u001b[1;32m    638\u001b[0m     \u001b[0;32mdef\u001b[0m \u001b[0mhttp_error_default\u001b[0m\u001b[0;34m(\u001b[0m\u001b[0mself\u001b[0m\u001b[0;34m,\u001b[0m \u001b[0mreq\u001b[0m\u001b[0;34m,\u001b[0m \u001b[0mfp\u001b[0m\u001b[0;34m,\u001b[0m \u001b[0mcode\u001b[0m\u001b[0;34m,\u001b[0m \u001b[0mmsg\u001b[0m\u001b[0;34m,\u001b[0m \u001b[0mhdrs\u001b[0m\u001b[0;34m)\u001b[0m\u001b[0;34m:\u001b[0m\u001b[0;34m\u001b[0m\u001b[0;34m\u001b[0m\u001b[0m\n\u001b[0;32m--> 639\u001b[0;31m         \u001b[0;32mraise\u001b[0m \u001b[0mHTTPError\u001b[0m\u001b[0;34m(\u001b[0m\u001b[0mreq\u001b[0m\u001b[0;34m.\u001b[0m\u001b[0mfull_url\u001b[0m\u001b[0;34m,\u001b[0m \u001b[0mcode\u001b[0m\u001b[0;34m,\u001b[0m \u001b[0mmsg\u001b[0m\u001b[0;34m,\u001b[0m \u001b[0mhdrs\u001b[0m\u001b[0;34m,\u001b[0m \u001b[0mfp\u001b[0m\u001b[0;34m)\u001b[0m\u001b[0;34m\u001b[0m\u001b[0;34m\u001b[0m\u001b[0m\n\u001b[0m\u001b[1;32m    640\u001b[0m \u001b[0;34m\u001b[0m\u001b[0m\n\u001b[1;32m    641\u001b[0m \u001b[0;32mclass\u001b[0m \u001b[0mHTTPRedirectHandler\u001b[0m\u001b[0;34m(\u001b[0m\u001b[0mBaseHandler\u001b[0m\u001b[0;34m)\u001b[0m\u001b[0;34m:\u001b[0m\u001b[0;34m\u001b[0m\u001b[0;34m\u001b[0m\u001b[0m\n",
            "\u001b[0;31mHTTPError\u001b[0m: HTTP Error 404: Not Found"
          ]
        }
      ],
      "source": [
        "# Detect environment\n",
        "IN_COLAB = 'COLAB_GPU' in os.environ or 'google.colab' in str(get_ipython())\n",
        "\n",
        "# Define data path logic\n",
        "if IN_COLAB:\n",
        "    # Option 1: Load directly from GitHub (recommended for read-only data)\n",
        "    url = \"https://github.com/edanfisher/QUT/blob/main/data/Dataset.csv\"\n",
        "    df = pd.read_csv(url)\n",
        "\n",
        "    # Option 2: (if data is large/private)\n",
        "    # from google.colab import drive\n",
        "    # drive.mount('/content/drive')\n",
        "    # df = pd.read_csv('/content/drive/MyDrive/path/to/data.csv')\n",
        "else:\n",
        "    # Local path for your machine\n",
        "    df = pd.read_csv(\"data/Dataset.csv\")"
      ]
    },
    {
      "cell_type": "markdown",
      "id": "b392cb7f",
      "metadata": {
        "id": "b392cb7f"
      },
      "source": [
        "## Task 1 - Examining Data Types"
      ]
    },
    {
      "cell_type": "code",
      "execution_count": null,
      "id": "21a0bd65",
      "metadata": {
        "id": "21a0bd65"
      },
      "outputs": [],
      "source": [
        "df.head()"
      ]
    },
    {
      "cell_type": "markdown",
      "id": "3e078d91",
      "metadata": {
        "id": "3e078d91"
      },
      "source": [
        "We'll use .info() to examine the datatypes and .isnull() to examine null values - we'll process these later"
      ]
    },
    {
      "cell_type": "code",
      "execution_count": null,
      "id": "91c5421e",
      "metadata": {
        "id": "91c5421e"
      },
      "outputs": [],
      "source": [
        "df.info()"
      ]
    },
    {
      "cell_type": "code",
      "execution_count": null,
      "id": "0711e456",
      "metadata": {
        "id": "0711e456"
      },
      "outputs": [],
      "source": [
        "df.isnull().sum().sort_values(ascending=False)"
      ]
    },
    {
      "cell_type": "markdown",
      "id": "fbd54328",
      "metadata": {
        "id": "fbd54328"
      },
      "source": [
        "# Column Data Types & Missing Data Review\n",
        "\n",
        "| #  | Column                  | Non-Null Count | Current Dtype       | Suggested Dtype         | Missing Values / Notes |\n",
        "|----|-------------------------|----------------|-------------------|------------------------|-----------------------|\n",
        "| 0  | Participant_ID          | 5789           | int64             | int64                  | 0, fine |\n",
        "| 1  | survey_date             | 4874           | datetime64[ns]    | datetime64[ns]         | 915 missing; may have malformed dates |\n",
        "| 2  | region                  | 5774           | category          | category               | 15 missing |\n",
        "| 3  | country                 | 5786           | category          | category               | 3 missing |\n",
        "| 4  | ip_latitude             | 5789           | float64           | float64                | 0 missing, fine |\n",
        "| 5  | ip_longitude            | 5789           | float64           | float64                | 0 missing, fine |\n",
        "| 6  | gender                  | 5789           | category          | category               | 0 missing, fine |\n",
        "| 7  | age                     | 5783           | category          | ordered category       | 6 missing; stored as ranges |\n",
        "| 8  | height                  | 5789           | int64             | int64                  | 0 missing, fine |\n",
        "| 9  | weight                  | 5789           | int64             | int64                  | 0 missing, fine |\n",
        "| 10 | bmi                     | 5789           | float64           | float64                | 0 missing, fine |\n",
        "| 11 | blood_type              | 5689           | category          | category               | 100 missing |\n",
        "| 12 | insurance               | 4497           | category          | category               | 1292 missing |\n",
        "| 13 | income                  | 4636           | category          | category               | 1153 missing |\n",
        "| 14 | smoking                 | 5753           | category          | category               | 36 missing |\n",
        "| 15 | alcohol                 | 5789           | float64           | float64                | 0 missing, fine |\n",
        "| 16 | cocaine                 | 1430           | float64           | float64                | 4359 missing |\n",
        "| 17 | contacts_count          | 5747           | Int64             | Int64 (nullable)       | 42 missing |\n",
        "| 18 | public_transport_count  | 4572           | Int64             | Int64 (nullable)       | 1217 missing |\n",
        "| 19 | working                 | 5761           | category          | category               | 28 missing |\n",
        "| 20 | worried                 | 4518           | float64           | float64                | 1271 missing |\n",
        "| 21 | covid19_positive        | 5789           | boolean           | boolean                | 0 missing |\n",
        "| 22 | covid19_symptoms        | 5789           | boolean           | boolean                | 0 missing |\n",
        "| 23 | covid19_contact         | 5789           | boolean           | boolean                | 0 missing |\n",
        "| 24 | asthma                  | 5789           | boolean           | boolean                | 0 missing |\n",
        "| 25 | kidney_disease          | 5789           | boolean           | boolean                | 0 missing |\n",
        "| 26 | liver_disease           | 5789           | boolean           | boolean                | 0 missing |\n",
        "| 27 | compromised_immune      | 5789           | boolean           | boolean                | 0 missing |\n",
        "| 28 | heart_disease           | 5789           | boolean           | boolean                | 0 missing |\n",
        "| 29 | lung_disease            | 5789           | boolean           | boolean                | 0 missing |\n",
        "| 30 | diabetes                | 5789           | boolean           | boolean                | 0 missing |\n",
        "| 31 | hiv_positive            | 5789           | boolean           | boolean                | 0 missing |\n",
        "| 32 | other_chronic           | 5789           | boolean           | boolean                | 0 missing |\n",
        "| 33 | nursing_home            | 5789           | boolean           | boolean                | 0 missing |\n",
        "| 34 | health_worker           | 5789           | boolean           | boolean                | 0 missing |\n",
        "| 35 | risk_infection          | 5789           | float64           | float64                | 0 missing |\n",
        "| 36 | risk_infection_level    | 5789           | category          | category               | 0 missing |\n",
        "| 37 | risk_mortality          | 5789           | float64           | float64                | 0 missing |\n"
      ]
    },
    {
      "cell_type": "markdown",
      "id": "3309f407",
      "metadata": {
        "id": "3309f407"
      },
      "source": [
        "Let's convert the data types explicitly, we could use .asType() to do this in one snippet, but it might fail if there's missing or malformed data. Better to do each type explicitly"
      ]
    },
    {
      "cell_type": "code",
      "execution_count": null,
      "id": "815d23a2",
      "metadata": {
        "id": "815d23a2"
      },
      "outputs": [],
      "source": [
        "# 1. Boolean columns\n",
        "\n",
        "bool_cols = [\n",
        "    'covid19_positive', 'covid19_symptoms', 'covid19_contact',\n",
        "    'asthma', 'kidney_disease', 'liver_disease', 'compromised_immune',\n",
        "    'heart_disease', 'lung_disease', 'diabetes', 'hiv_positive',\n",
        "    'other_chronic', 'nursing_home', 'health_worker'\n",
        "]\n",
        "df[bool_cols] = df[bool_cols].astype('boolean')\n",
        "\n",
        "# 2. Categorical columns\n",
        "safe_cat_cols = [\n",
        "    'region', 'country', 'gender', 'smoking', 'working', 'risk_infection_level'\n",
        "]\n",
        "df[safe_cat_cols] = df[safe_cat_cols].astype('category')\n",
        "\n",
        "# 3. Float columns that are already clean\n",
        "numeric_cols = [\n",
        "    'ip_latitude', 'ip_longitude', 'height', 'weight', 'bmi',\n",
        "    'alcohol', 'risk_infection', 'risk_mortality'\n",
        "]\n",
        "df[numeric_cols] = df[numeric_cols].astype('float64')\n",
        "\n",
        "# --------------------------\n",
        "# 4. Columns to preprocess later (commented)\n",
        "# --------------------------\n",
        "# survey_date -> convert to datetime after fixing bad/missing values\n",
        "# df['survey_date'] = pd.to_datetime(df['survey_date'], errors='coerce')\n",
        "\n",
        "# age -> ordered category\n",
        "# age_order = ['0_10','10_20','20_30','30_40','40_50','50_60','60_70','70_80','80_90','90_100']\n",
        "# df['age'] = pd.Categorical(df['age'], categories=age_order, ordered=True)\n",
        "\n",
        "# blood_type, insurance, income, cocaine, contacts_count, public_transport_count, worried\n",
        "# -> preprocess missing / malformed values before conversion"
      ]
    },
    {
      "cell_type": "markdown",
      "id": "827f2555",
      "metadata": {
        "id": "827f2555"
      },
      "source": [
        "Double check"
      ]
    },
    {
      "cell_type": "code",
      "execution_count": null,
      "id": "8cc516da",
      "metadata": {
        "id": "8cc516da"
      },
      "outputs": [],
      "source": [
        "df.info()"
      ]
    },
    {
      "cell_type": "markdown",
      "id": "5f77a13f",
      "metadata": {
        "id": "5f77a13f"
      },
      "source": [
        "## Task 2 - Data Exploration"
      ]
    },
    {
      "cell_type": "markdown",
      "id": "64e2a91e",
      "metadata": {
        "id": "64e2a91e"
      },
      "source": [
        "Task 2.1 - Identify missing values, outliers, inappropriate or inconsistent values, or errors in the\n",
        "data. List the variables with the identified problems."
      ]
    },
    {
      "cell_type": "code",
      "execution_count": null,
      "id": "53597b2d",
      "metadata": {
        "id": "53597b2d"
      },
      "outputs": [],
      "source": []
    },
    {
      "cell_type": "markdown",
      "id": "188258da",
      "metadata": {
        "id": "188258da"
      },
      "source": [
        "Task 2.2 - Identify and report the skewness present in the variables.  "
      ]
    },
    {
      "cell_type": "code",
      "execution_count": null,
      "id": "670e1e1c",
      "metadata": {
        "id": "670e1e1c"
      },
      "outputs": [],
      "source": [
        "# Numeric columns (ready to calculate skew)\n",
        "numeric_columns_df = df.select_dtypes(np.number).columns"
      ]
    },
    {
      "cell_type": "code",
      "execution_count": null,
      "id": "ecf8d49c",
      "metadata": {
        "id": "ecf8d49c"
      },
      "outputs": [],
      "source": [
        "for col in numeric_columns_df:\n",
        "    print(f\"Skewness of {col}:\", df[col].skew())\n",
        "    plt.figure(figsize=(10,4))\n",
        "    sns.histplot(df[col])\n",
        "    plt.title(col)\n",
        "    plt.tight_layout()\n",
        "    plt.show()\n"
      ]
    },
    {
      "cell_type": "markdown",
      "id": "42ac9116",
      "metadata": {
        "id": "42ac9116"
      },
      "source": [
        "Task 2.3 - If you need to change the type of some variables in order to identify the problems of\n",
        "these variables, e.g., check the skewness of some categorical variables, you need to\n",
        "report the changes.  "
      ]
    },
    {
      "cell_type": "code",
      "execution_count": null,
      "id": "0ff5ce2d",
      "metadata": {
        "id": "0ff5ce2d"
      },
      "outputs": [],
      "source": [
        "# Need to figure out here which categorical variables we need to calculate skew on"
      ]
    },
    {
      "cell_type": "markdown",
      "id": "202892fd",
      "metadata": {
        "id": "202892fd"
      },
      "source": [
        "Task 2.4 - Describe how you have identified these problems with evidence for each of the\n",
        "identified problems, e.g., plots, your Python code snippets, and outputs produced by\n",
        "your code."
      ]
    },
    {
      "cell_type": "code",
      "execution_count": null,
      "id": "c1431302",
      "metadata": {
        "id": "c1431302"
      },
      "outputs": [],
      "source": [
        "# Need to figure out 2.3 first"
      ]
    },
    {
      "cell_type": "markdown",
      "id": "13db5ba0",
      "metadata": {
        "id": "13db5ba0"
      },
      "source": [
        "Task 2.5 - Answer the following questions"
      ]
    },
    {
      "cell_type": "markdown",
      "id": "c422d2cc",
      "metadata": {
        "id": "c422d2cc"
      },
      "source": [
        "(a). What is the average contacts_count of a patient from the US who is COVID-19\n",
        "positive?  "
      ]
    },
    {
      "cell_type": "code",
      "execution_count": null,
      "id": "909f2fd1",
      "metadata": {
        "id": "909f2fd1"
      },
      "outputs": [],
      "source": [
        "# Filter only covid positive people\n",
        "positive_cases = df[df['covid19_positive'] == 1]\n",
        "\n",
        "# Calculate average contacts\n",
        "average_contacts = positive_cases['contacts_count'].mean()\n",
        "\n",
        "print(\"Average contacts for COVID-19 positive people:\", average_contacts)"
      ]
    },
    {
      "cell_type": "markdown",
      "id": "47d2e267",
      "metadata": {
        "id": "47d2e267"
      },
      "source": [
        "(b). Which country has the highest number of covid19_positive?"
      ]
    },
    {
      "cell_type": "code",
      "execution_count": null,
      "id": "8ae0ae29",
      "metadata": {
        "id": "8ae0ae29"
      },
      "outputs": [],
      "source": [
        "# Filter only covid positive people\n",
        "positive_cases = df[df['covid19_positive'] == 1]\n",
        "\n",
        "# Calculate value counts for each country\n",
        "country_counts = positive_cases['country'].value_counts()\n",
        "\n",
        "# Calculate top country\n",
        "top_country = country_counts.idxmax()\n",
        "\n",
        "print(\"Country with the highest number of covid19_positive:\", top_country)"
      ]
    },
    {
      "cell_type": "markdown",
      "id": "60002cbf",
      "metadata": {
        "id": "60002cbf"
      },
      "source": [
        "(c). How many health workers in the dataset? and how many of them are covid19 positive?"
      ]
    },
    {
      "cell_type": "code",
      "execution_count": null,
      "id": "774a42c0",
      "metadata": {
        "id": "774a42c0"
      },
      "outputs": [],
      "source": [
        "# Filter only covid positive people\n",
        "health_workers = df[df['health_worker'] == 1]\n",
        "\n",
        "# Calculate covid positive counts\n",
        "covid_positive_workers = health_workers[health_workers['covid19_positive'] == 1]\n",
        "\n",
        "print(\"Number of health workers in this dataset:\", len(health_workers))\n",
        "print(\"Number of Covid positive health workers:\", len(covid_positive_workers))"
      ]
    },
    {
      "cell_type": "markdown",
      "id": "66af2561",
      "metadata": {
        "id": "66af2561"
      },
      "source": [
        "(d). Which are the top-five countries according to the average mortality risk?"
      ]
    },
    {
      "cell_type": "code",
      "execution_count": null,
      "id": "d69f2b76",
      "metadata": {
        "id": "d69f2b76"
      },
      "outputs": [],
      "source": [
        "# Calculate value counts for each country\n",
        "avg_mortality_risk_by_country = df.groupby('country')['risk_mortality'].mean().reset_index()\n",
        "\n",
        "# Sort descending and show just the top five countries\n",
        "avg_mortality_risk_by_country.sort_values(by='risk_mortality', ascending=False).head(5)"
      ]
    },
    {
      "cell_type": "markdown",
      "id": "46f6cd96",
      "metadata": {
        "id": "46f6cd96"
      },
      "source": [
        "## Task 3 - Data Preparation"
      ]
    },
    {
      "cell_type": "markdown",
      "id": "c2affaf3",
      "metadata": {
        "id": "c2affaf3"
      },
      "source": [
        "Summarize your findings from your data exploration task."
      ]
    },
    {
      "cell_type": "markdown",
      "id": "ea78cdb8",
      "metadata": {
        "id": "ea78cdb8"
      },
      "source": [
        "Process the dataset to fix the identified data quality problems."
      ]
    },
    {
      "cell_type": "markdown",
      "id": "3914623f",
      "metadata": {
        "id": "3914623f"
      },
      "source": [
        "Elaborate on the data preparation steps, e.g., data cleaning, transformation, or\n",
        "normalization."
      ]
    },
    {
      "cell_type": "markdown",
      "id": "793ebb5d",
      "metadata": {
        "id": "793ebb5d"
      },
      "source": [
        "Demonstrate the data preparation by including screenshot(s) of your Python code\n",
        "snippets and its outputs that show how you corrected the identified data quality\n",
        "problems in this dataset."
      ]
    },
    {
      "cell_type": "markdown",
      "id": "b6320799",
      "metadata": {
        "id": "b6320799"
      },
      "source": [
        "Describe here if you create any new derived variables and describe why you need these\n",
        "derived variables.  "
      ]
    },
    {
      "cell_type": "markdown",
      "id": "1fa679c0",
      "metadata": {
        "id": "1fa679c0"
      },
      "source": [
        "## Task 4 - Variable Correlation Analysis"
      ]
    },
    {
      "cell_type": "markdown",
      "id": "04c36d4f",
      "metadata": {
        "id": "04c36d4f"
      },
      "source": [
        "Examine the correlations of the variables pairwisely, including both numerical and\n",
        "categorical variables."
      ]
    },
    {
      "cell_type": "code",
      "execution_count": null,
      "id": "36ff3f0a",
      "metadata": {
        "id": "36ff3f0a"
      },
      "outputs": [],
      "source": [
        "numeric_columns_df = df.select_dtypes(np.number)"
      ]
    },
    {
      "cell_type": "code",
      "execution_count": null,
      "id": "0949adf2",
      "metadata": {
        "id": "0949adf2"
      },
      "outputs": [],
      "source": [
        "plt.figure(figsize=(12,8))\n",
        "sns.heatmap(numeric_columns_df.corr(),annot=True,cmap='viridis',vmin=-1,vmax=1)"
      ]
    },
    {
      "cell_type": "markdown",
      "id": "4cfbbd27",
      "metadata": {
        "id": "4cfbbd27"
      },
      "source": [
        "Identify the highly correlated variable pairs and elaborate on how to treat these\n",
        "variables in predictive machine learning models, especially the variables\n",
        "covid19_positive and risk_infection, how would you handle these two\n",
        "variables in predictive machine learning models based on your findings?  "
      ]
    },
    {
      "cell_type": "markdown",
      "id": "0e013c87",
      "metadata": {
        "id": "0e013c87"
      },
      "source": [
        "Detail how you have identified the relationships by using suitable functions and\n",
        "visualisation plots."
      ]
    },
    {
      "cell_type": "markdown",
      "id": "12b12faa",
      "metadata": {
        "id": "12b12faa"
      },
      "source": []
    }
  ],
  "metadata": {
    "kernelspec": {
      "display_name": "venv",
      "language": "python",
      "name": "python3"
    },
    "language_info": {
      "codemirror_mode": {
        "name": "ipython",
        "version": 3
      },
      "file_extension": ".py",
      "mimetype": "text/x-python",
      "name": "python",
      "nbconvert_exporter": "python",
      "pygments_lexer": "ipython3",
      "version": "3.10.0"
    },
    "colab": {
      "provenance": []
    }
  },
  "nbformat": 4,
  "nbformat_minor": 5
}