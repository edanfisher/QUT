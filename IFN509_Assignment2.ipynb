{
 "cells": [
  {
   "cell_type": "markdown",
   "id": "55682451",
   "metadata": {},
   "source": [
    "# IFN509 Assignment 2"
   ]
  },
  {
   "cell_type": "code",
   "execution_count": null,
   "id": "b5379065",
   "metadata": {
    "vscode": {
     "languageId": "plaintext"
    }
   },
   "outputs": [],
   "source": []
  },
  {
   "cell_type": "code",
   "execution_count": null,
   "id": "aa9ac4bc",
   "metadata": {
    "vscode": {
     "languageId": "plaintext"
    }
   },
   "outputs": [],
   "source": []
  }
 ],
 "metadata": {
  "language_info": {
   "name": "python"
  }
 },
 "nbformat": 4,
 "nbformat_minor": 5
}
